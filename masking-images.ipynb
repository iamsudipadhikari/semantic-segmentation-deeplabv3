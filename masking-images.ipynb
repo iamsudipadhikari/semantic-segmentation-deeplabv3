{
 "cells": [
  {
   "cell_type": "code",
   "execution_count": 5,
   "id": "ebf7d2ac",
   "metadata": {},
   "outputs": [],
   "source": [
    "# For Masking Images"
   ]
  },
  {
   "cell_type": "code",
   "execution_count": 1,
   "id": "8f6477b5",
   "metadata": {
    "scrolled": true
   },
   "outputs": [
    {
     "name": "stderr",
     "output_type": "stream",
     "text": [
      "100%|████████████████████████████████████████████████████████████████████████████████| 128/128 [01:05<00:00,  1.96it/s]\n"
     ]
    }
   ],
   "source": [
    "# Importing required libraires\n",
    "import os\n",
    "import json\n",
    "import cv2\n",
    "import numpy as np\n",
    "from glob import glob\n",
    "from tqdm import tqdm\n",
    "\n",
    "# Naming default directories names\n",
    "images_directory=\"images\"\n",
    "masked_directory=\"masked\"\n",
    "source_path=\"dataset\"\n",
    "target_path=\"masked-dataset\"\n",
    "\n",
    "# Creating a directory\n",
    "def create_dir(path):\n",
    "    os.makedirs(path, exist_ok=True)\n",
    "\n",
    "# Processing the data and saving the image and mask\n",
    "def process_data(image_path, json_path, save_dir):\n",
    "    \n",
    "    # Reading the JSON file\n",
    "    with open(json_path, \"r\") as f:\n",
    "        data = json.load(f)\n",
    "\n",
    "    # Loop over the JSON data (dictionary)\n",
    "    for key, value in tqdm(data.items()):\n",
    "        # Getting the filename\n",
    "        filename = value[\"filename\"]\n",
    "\n",
    "        # Extracting the name of the image, by removing its extension\n",
    "        name = os.path.splitext(filename)[0]\n",
    "\n",
    "        # Reading the image\n",
    "        image = cv2.imread(os.path.join(image_path, filename))\n",
    "\n",
    "        H, W, _ = image.shape\n",
    "\n",
    "        # Extracting information about the annotated regions\n",
    "        regions = value[\"regions\"]\n",
    "\n",
    "        # Creating a blank mask\n",
    "        mask = np.zeros((H, W, 3), dtype=np.uint8)\n",
    "\n",
    "        # Loop over regions and draw on the mask\n",
    "        for region in regions:\n",
    "            points_x = np.array(region[\"shape_attributes\"][\"all_points_x\"])\n",
    "            points_y = np.array(region[\"shape_attributes\"][\"all_points_y\"])\n",
    "            points = np.array([(x, y) for x, y in zip(points_x, points_y)], dtype=np.int32)\n",
    "            region_type = region[\"region_attributes\"][\"type\"]\n",
    "\n",
    "            # Assigning color based on region type\n",
    "            if region_type == \"bins\":\n",
    "                color = (255, 0, 0)  # Blue color\n",
    "            elif region_type == \"buildings\":\n",
    "                color = (0, 0, 255)  # Red color\n",
    "            elif region_type == \"trees\":\n",
    "                color = (0, 255, 0)  # Green color    \n",
    "            else:\n",
    "                color = (0, 255, 255)  # Yellow color: Just to check if some-items misses type while annotating\n",
    "\n",
    "            # Drawing filled polygon on the mask\n",
    "            cv2.fillPoly(mask, [points], color=color)\n",
    "\n",
    "        # Saving the image and mask\n",
    "        cv2.imwrite(os.path.join(save_dir, images_directory, f\"{name}.jpg\"), image)\n",
    "        cv2.imwrite(os.path.join(save_dir, masked_directory, f\"{name}.png\"), mask)\n",
    "\n",
    "\n",
    "# Dataset path which contains original images and json form annotator\n",
    "dataset_path = source_path\n",
    "dataset = glob(os.path.join(dataset_path))\n",
    "\n",
    "# Loop over the dataset\n",
    "for data in dataset:\n",
    "    # Path for the files\n",
    "    image_path = glob(os.path.join(data, \"original*\"))[0]\n",
    "    json_path = glob(os.path.join(data, \"*.json\"))[0]\n",
    "\n",
    "    # Creating directories to save the data\n",
    "    dir_name = os.path.split(data)[-1]\n",
    "    save_dir = os.path.join(target_path)\n",
    "    create_dir(os.path.join(save_dir, images_directory))\n",
    "    create_dir(os.path.join(save_dir, masked_directory))\n",
    "\n",
    "    # Process the data\n",
    "    process_data(image_path, json_path, save_dir)\n"
   ]
  }
 ],
 "metadata": {
  "kernelspec": {
   "display_name": "Python 3",
   "language": "python",
   "name": "python3"
  },
  "language_info": {
   "codemirror_mode": {
    "name": "ipython",
    "version": 3
   },
   "file_extension": ".py",
   "mimetype": "text/x-python",
   "name": "python",
   "nbconvert_exporter": "python",
   "pygments_lexer": "ipython3",
   "version": "3.8.8"
  }
 },
 "nbformat": 4,
 "nbformat_minor": 5
}
